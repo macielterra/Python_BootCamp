{
  "nbformat": 4,
  "nbformat_minor": 0,
  "metadata": {
    "colab": {
      "name": "LibPandas.ipynb",
      "provenance": [],
      "collapsed_sections": []
    },
    "kernelspec": {
      "name": "python3",
      "display_name": "Python 3"
    },
    "language_info": {
      "name": "python"
    }
  },
  "cells": [
    {
      "cell_type": "code",
      "metadata": {
        "colab": {
          "base_uri": "https://localhost:8080/"
        },
        "id": "emdq4uZ2lC4z",
        "outputId": "4e3b5a4f-7968-4991-bf5d-40e1a6d07867"
      },
      "source": [
        "# Criando uma LISTA chamada animais\n",
        "animais = [1,2,3]\n",
        "animais"
      ],
      "execution_count": 1,
      "outputs": [
        {
          "output_type": "execute_result",
          "data": {
            "text/plain": [
              "[1, 2, 3]"
            ]
          },
          "metadata": {
            "tags": []
          },
          "execution_count": 1
        }
      ]
    },
    {
      "cell_type": "code",
      "metadata": {
        "colab": {
          "base_uri": "https://localhost:8080/"
        },
        "id": "6oi744YHlP8T",
        "outputId": "35191b0d-5b47-4197-f415-fa0ce0c2fce0"
      },
      "source": [
        "animais=[\"cachorro\",\"gato\",\"galinha\"]\n",
        "animais"
      ],
      "execution_count": 3,
      "outputs": [
        {
          "output_type": "execute_result",
          "data": {
            "text/plain": [
              "['cachorro', 'gato', 'galinha']"
            ]
          },
          "metadata": {
            "tags": []
          },
          "execution_count": 3
        }
      ]
    },
    {
      "cell_type": "code",
      "metadata": {
        "colab": {
          "base_uri": "https://localhost:8080/",
          "height": 35
        },
        "id": "Rlg6A0qNlYcr",
        "outputId": "7aad97ef-9dae-456d-c83d-74f3dffd25a2"
      },
      "source": [
        "#Imprimimdo um elemento da LISTA\n",
        "animais[0]"
      ],
      "execution_count": 4,
      "outputs": [
        {
          "output_type": "execute_result",
          "data": {
            "application/vnd.google.colaboratory.intrinsic+json": {
              "type": "string"
            },
            "text/plain": [
              "'cachorro'"
            ]
          },
          "metadata": {
            "tags": []
          },
          "execution_count": 4
        }
      ]
    },
    {
      "cell_type": "code",
      "metadata": {
        "colab": {
          "base_uri": "https://localhost:8080/",
          "height": 35
        },
        "id": "GVNT95x_lflD",
        "outputId": "0629df36-418a-49ec-8335-110afa073130"
      },
      "source": [
        "#Imprimindo o 2 elemento da LISTA\n",
        "animais[2]"
      ],
      "execution_count": 7,
      "outputs": [
        {
          "output_type": "execute_result",
          "data": {
            "application/vnd.google.colaboratory.intrinsic+json": {
              "type": "string"
            },
            "text/plain": [
              "'galinha'"
            ]
          },
          "metadata": {
            "tags": []
          },
          "execution_count": 7
        }
      ]
    },
    {
      "cell_type": "code",
      "metadata": {
        "colab": {
          "base_uri": "https://localhost:8080/"
        },
        "id": "iw282bEdlq6L",
        "outputId": "4eea5045-91f2-4156-edce-1df5625e9633"
      },
      "source": [
        "# substituindo o primeiro elemento da LISTA\n",
        "animais[1] = \"Papagaio\"\n",
        "animais"
      ],
      "execution_count": 10,
      "outputs": [
        {
          "output_type": "execute_result",
          "data": {
            "text/plain": [
              "['cachorro', 'Papagaio', 'galinha']"
            ]
          },
          "metadata": {
            "tags": []
          },
          "execution_count": 10
        }
      ]
    },
    {
      "cell_type": "code",
      "metadata": {
        "colab": {
          "base_uri": "https://localhost:8080/"
        },
        "id": "4nDoutHPl6aL",
        "outputId": "d2919862-2ad4-4aae-a1e4-bb13f28eba79"
      },
      "source": [
        "# Removendo um elemento da LISTA\n",
        "animais.remove('Papagaio')\n",
        "animais"
      ],
      "execution_count": 11,
      "outputs": [
        {
          "output_type": "execute_result",
          "data": {
            "text/plain": [
              "['cachorro', 'galinha']"
            ]
          },
          "metadata": {
            "tags": []
          },
          "execution_count": 11
        }
      ]
    },
    {
      "cell_type": "code",
      "metadata": {
        "colab": {
          "base_uri": "https://localhost:8080/"
        },
        "id": "cmluINVbmHuF",
        "outputId": "b5260222-3f3d-4d26-fd3e-6f6b103068dd"
      },
      "source": [
        "#Exibe a quantidade de itens/Elementos da LISTA\n",
        "len(animais)"
      ],
      "execution_count": 12,
      "outputs": [
        {
          "output_type": "execute_result",
          "data": {
            "text/plain": [
              "2"
            ]
          },
          "metadata": {
            "tags": []
          },
          "execution_count": 12
        }
      ]
    },
    {
      "cell_type": "code",
      "metadata": {
        "colab": {
          "base_uri": "https://localhost:8080/"
        },
        "id": "3G5oYr_SmfUn",
        "outputId": "8a454740-2c09-4ef3-f942-83d045533521"
      },
      "source": [
        "# Procura um elemento dentro da LISTA \n",
        "\"gatos\" in animais"
      ],
      "execution_count": 13,
      "outputs": [
        {
          "output_type": "execute_result",
          "data": {
            "text/plain": [
              "False"
            ]
          },
          "metadata": {
            "tags": []
          },
          "execution_count": 13
        }
      ]
    },
    {
      "cell_type": "code",
      "metadata": {
        "colab": {
          "base_uri": "https://localhost:8080/"
        },
        "id": "pYo2jp-HmvsI",
        "outputId": "07e655d8-d35d-4cb0-b9ea-6065a67b6de0"
      },
      "source": [
        "\"galinha\" in animais"
      ],
      "execution_count": 14,
      "outputs": [
        {
          "output_type": "execute_result",
          "data": {
            "text/plain": [
              "True"
            ]
          },
          "metadata": {
            "tags": []
          },
          "execution_count": 14
        }
      ]
    },
    {
      "cell_type": "code",
      "metadata": {
        "colab": {
          "base_uri": "https://localhost:8080/"
        },
        "id": "9ffnqr5pmuA4",
        "outputId": "69eb5403-892a-4f96-d03f-2bb106738a2d"
      },
      "source": [
        "num=[10,25,4,6,89,78,18]\n",
        "num"
      ],
      "execution_count": 17,
      "outputs": [
        {
          "output_type": "execute_result",
          "data": {
            "text/plain": [
              "[10, 25, 4, 6, 89, 78, 18]"
            ]
          },
          "metadata": {
            "tags": []
          },
          "execution_count": 17
        }
      ]
    },
    {
      "cell_type": "code",
      "metadata": {
        "colab": {
          "base_uri": "https://localhost:8080/"
        },
        "id": "bbZ1X66Qm8ar",
        "outputId": "9acae24f-6af8-43d6-d08a-fdf3ef5477fc"
      },
      "source": [
        "#Menor valor da LISTA\n",
        "min(num)"
      ],
      "execution_count": 18,
      "outputs": [
        {
          "output_type": "execute_result",
          "data": {
            "text/plain": [
              "4"
            ]
          },
          "metadata": {
            "tags": []
          },
          "execution_count": 18
        }
      ]
    },
    {
      "cell_type": "code",
      "metadata": {
        "colab": {
          "base_uri": "https://localhost:8080/"
        },
        "id": "bHI3zPRYnIgI",
        "outputId": "40d0ec1c-4c4a-4e26-e389-b8333ecebd3f"
      },
      "source": [
        "#Maior valor da LISTA\n",
        "max(num)"
      ],
      "execution_count": 19,
      "outputs": [
        {
          "output_type": "execute_result",
          "data": {
            "text/plain": [
              "89"
            ]
          },
          "metadata": {
            "tags": []
          },
          "execution_count": 19
        }
      ]
    },
    {
      "cell_type": "code",
      "metadata": {
        "colab": {
          "base_uri": "https://localhost:8080/"
        },
        "id": "_RNaP_fGnPzy",
        "outputId": "ab28b382-5b94-4497-c9e0-160ddb33d4fa"
      },
      "source": [
        "#Adicionando elemento a LISTA\n",
        "num.append(100)\n",
        "num"
      ],
      "execution_count": 26,
      "outputs": [
        {
          "output_type": "execute_result",
          "data": {
            "text/plain": [
              "[10, 25, 4, 6, 89, 78, 18, 55, 100]"
            ]
          },
          "metadata": {
            "tags": []
          },
          "execution_count": 26
        }
      ]
    },
    {
      "cell_type": "code",
      "metadata": {
        "colab": {
          "base_uri": "https://localhost:8080/"
        },
        "id": "y0o_FSCUnlKh",
        "outputId": "279c268e-0ba7-4d6f-8555-f21bbc965c2d"
      },
      "source": [
        "num.append(55)\n",
        "num"
      ],
      "execution_count": 27,
      "outputs": [
        {
          "output_type": "execute_result",
          "data": {
            "text/plain": [
              "[10, 25, 4, 6, 89, 78, 18, 55, 100, 55]"
            ]
          },
          "metadata": {
            "tags": []
          },
          "execution_count": 27
        }
      ]
    },
    {
      "cell_type": "code",
      "metadata": {
        "colab": {
          "base_uri": "https://localhost:8080/"
        },
        "id": "ondMDVRuntE7",
        "outputId": "5ed43e02-b926-4b86-f8b4-cefb34584a9d"
      },
      "source": [
        "num.remove(100)\n",
        "num"
      ],
      "execution_count": 28,
      "outputs": [
        {
          "output_type": "execute_result",
          "data": {
            "text/plain": [
              "[10, 25, 4, 6, 89, 78, 18, 55, 55]"
            ]
          },
          "metadata": {
            "tags": []
          },
          "execution_count": 28
        }
      ]
    },
    {
      "cell_type": "code",
      "metadata": {
        "colab": {
          "base_uri": "https://localhost:8080/"
        },
        "id": "SOIgwduyocn2",
        "outputId": "e14aeb0f-82cf-447f-9d06-2b3802446a88"
      },
      "source": [
        "# Adicionando uma LISTA em outra. LISTA ANINHADA\n",
        "animais.append([\"maciel\",\"michel\"])\n",
        "animais"
      ],
      "execution_count": 31,
      "outputs": [
        {
          "output_type": "execute_result",
          "data": {
            "text/plain": [
              "['cachorro', 'galinha', ['maciel', 'michel']]"
            ]
          },
          "metadata": {
            "tags": []
          },
          "execution_count": 31
        }
      ]
    },
    {
      "cell_type": "code",
      "metadata": {
        "colab": {
          "base_uri": "https://localhost:8080/"
        },
        "id": "enx7ttc3o82A",
        "outputId": "37ad9020-d303-420c-bc1b-73f36a52f16d"
      },
      "source": [
        "# Adicionando mais de um elemento a LISTA\n",
        "animais.extend(['terra',1])\n",
        "animais"
      ],
      "execution_count": 34,
      "outputs": [
        {
          "output_type": "execute_result",
          "data": {
            "text/plain": [
              "['cachorro', 'galinha', ['maciel', 'michel'], 'terra', 1]"
            ]
          },
          "metadata": {
            "tags": []
          },
          "execution_count": 34
        }
      ]
    },
    {
      "cell_type": "code",
      "metadata": {
        "colab": {
          "base_uri": "https://localhost:8080/"
        },
        "id": "F20aBJhfpY1Z",
        "outputId": "8fb37393-62be-4e54-b097-0cf9c50c4682"
      },
      "source": [
        "animais.count(\"terra\")"
      ],
      "execution_count": 36,
      "outputs": [
        {
          "output_type": "execute_result",
          "data": {
            "text/plain": [
              "1"
            ]
          },
          "metadata": {
            "tags": []
          },
          "execution_count": 36
        }
      ]
    },
    {
      "cell_type": "code",
      "metadata": {
        "colab": {
          "base_uri": "https://localhost:8080/"
        },
        "id": "Xz6zeuqfpxVz",
        "outputId": "78a68ca0-e0bb-4e85-fb04-666e064b6e66"
      },
      "source": [
        "num.sort()\n",
        "num"
      ],
      "execution_count": 38,
      "outputs": [
        {
          "output_type": "execute_result",
          "data": {
            "text/plain": [
              "[4, 6, 10, 18, 25, 55, 55, 78, 89]"
            ]
          },
          "metadata": {
            "tags": []
          },
          "execution_count": 38
        }
      ]
    },
    {
      "cell_type": "code",
      "metadata": {
        "colab": {
          "base_uri": "https://localhost:8080/"
        },
        "id": "G8K8dWtPp909",
        "outputId": "2046a6b4-17de-4406-f197-9d5acc3aa91d"
      },
      "source": [
        "# TRABALHANDO COM TUPLAS - AS TUPLAS NÃO SOBREM ALTERAÇÕES/MODIFICAÇÕES\n",
        "tp = ('banana','maca','laranja','ameixa')\n",
        "tp"
      ],
      "execution_count": 42,
      "outputs": [
        {
          "output_type": "execute_result",
          "data": {
            "text/plain": [
              "('banana', 'maca', 'laranja', 'ameixa')"
            ]
          },
          "metadata": {
            "tags": []
          },
          "execution_count": 42
        }
      ]
    },
    {
      "cell_type": "code",
      "metadata": {
        "colab": {
          "base_uri": "https://localhost:8080/",
          "height": 35
        },
        "id": "xi_VSw5iqSl8",
        "outputId": "246c511c-f684-4d2d-de97-87e9f6a315b9"
      },
      "source": [
        "#Retornando o primeiro elemento\n",
        "tp[0]"
      ],
      "execution_count": 44,
      "outputs": [
        {
          "output_type": "execute_result",
          "data": {
            "application/vnd.google.colaboratory.intrinsic+json": {
              "type": "string"
            },
            "text/plain": [
              "'banana'"
            ]
          },
          "metadata": {
            "tags": []
          },
          "execution_count": 44
        }
      ]
    },
    {
      "cell_type": "code",
      "metadata": {
        "colab": {
          "base_uri": "https://localhost:8080/"
        },
        "id": "dtO_qwYiqcxF",
        "outputId": "3117ac3f-6d0d-477e-deaf-73470645c940"
      },
      "source": [
        "tp.count('maca')"
      ],
      "execution_count": 45,
      "outputs": [
        {
          "output_type": "execute_result",
          "data": {
            "text/plain": [
              "1"
            ]
          },
          "metadata": {
            "tags": []
          },
          "execution_count": 45
        }
      ]
    },
    {
      "cell_type": "code",
      "metadata": {
        "colab": {
          "base_uri": "https://localhost:8080/"
        },
        "id": "jWv6UUMcqreO",
        "outputId": "393dcca9-0db6-4f9e-9ae0-0f7cecd62b09"
      },
      "source": [
        "tp[0:2]"
      ],
      "execution_count": 46,
      "outputs": [
        {
          "output_type": "execute_result",
          "data": {
            "text/plain": [
              "('banana', 'maca')"
            ]
          },
          "metadata": {
            "tags": []
          },
          "execution_count": 46
        }
      ]
    },
    {
      "cell_type": "code",
      "metadata": {
        "colab": {
          "base_uri": "https://localhost:8080/"
        },
        "id": "OC7GBdSdq7du",
        "outputId": "834b6c35-232b-4939-92fd-4a52e45b4b86"
      },
      "source": [
        "# TRABALHANDO COM DICIONARIOS\n",
        "frutas={'Maca':4,'Banana':3.5,'Coco':8.45, 'Abacaxi':3.80}\n",
        "frutas"
      ],
      "execution_count": 49,
      "outputs": [
        {
          "output_type": "execute_result",
          "data": {
            "text/plain": [
              "{'Abacaxi': 3.8, 'Banana': 3.5, 'Coco': 8.45, 'Maca': 4}"
            ]
          },
          "metadata": {
            "tags": []
          },
          "execution_count": 49
        }
      ]
    },
    {
      "cell_type": "code",
      "metadata": {
        "colab": {
          "base_uri": "https://localhost:8080/"
        },
        "id": "R5y4jQgfrVxJ",
        "outputId": "8e17a344-e442-4a85-d707-60020c075653"
      },
      "source": [
        "#Acessando um determinado valor\n",
        "frutas['Maca']"
      ],
      "execution_count": 50,
      "outputs": [
        {
          "output_type": "execute_result",
          "data": {
            "text/plain": [
              "4"
            ]
          },
          "metadata": {
            "tags": []
          },
          "execution_count": 50
        }
      ]
    },
    {
      "cell_type": "code",
      "metadata": {
        "colab": {
          "base_uri": "https://localhost:8080/"
        },
        "id": "afpiL65ysAdy",
        "outputId": "438e653c-633c-4294-e2b0-363adbadd0c8"
      },
      "source": [
        "#Atualizando um valor de um dicionario\n",
        "frutas['Banana'] = 3.20\n",
        "frutas"
      ],
      "execution_count": 52,
      "outputs": [
        {
          "output_type": "execute_result",
          "data": {
            "text/plain": [
              "{'Abacaxi': 3.8, 'Banana': 3.2, 'Coco': 8.45, 'Maca': 4}"
            ]
          },
          "metadata": {
            "tags": []
          },
          "execution_count": 52
        }
      ]
    },
    {
      "cell_type": "code",
      "metadata": {
        "colab": {
          "base_uri": "https://localhost:8080/"
        },
        "id": "reGA6i1ysPqy",
        "outputId": "9b11a98b-ac4c-451f-9ea7-618be9286fe2"
      },
      "source": [
        "# Mostrando as chaves do Dicionário\n",
        "frutas.keys()"
      ],
      "execution_count": 53,
      "outputs": [
        {
          "output_type": "execute_result",
          "data": {
            "text/plain": [
              "dict_keys(['Maca', 'Banana', 'Coco', 'Abacaxi'])"
            ]
          },
          "metadata": {
            "tags": []
          },
          "execution_count": 53
        }
      ]
    },
    {
      "cell_type": "code",
      "metadata": {
        "colab": {
          "base_uri": "https://localhost:8080/"
        },
        "id": "WOFnOzIUsWJK",
        "outputId": "cf15f259-6c2e-4b40-c344-e22fadac3b64"
      },
      "source": [
        "# Mostrando os valores de um dicionário\n",
        "frutas.values()"
      ],
      "execution_count": 55,
      "outputs": [
        {
          "output_type": "execute_result",
          "data": {
            "text/plain": [
              "dict_values([4, 3.2, 8.45, 3.8])"
            ]
          },
          "metadata": {
            "tags": []
          },
          "execution_count": 55
        }
      ]
    },
    {
      "cell_type": "code",
      "metadata": {
        "colab": {
          "base_uri": "https://localhost:8080/"
        },
        "id": "WC6QffRss7nG",
        "outputId": "2a30608e-40b9-4091-903f-b2cf49583ceb"
      },
      "source": [
        "#Verificando se já existe uma chave, caso não existe, inseri.\n",
        "frutas.setdefault('Limao', 2.10)\n",
        "frutas"
      ],
      "execution_count": 57,
      "outputs": [
        {
          "output_type": "execute_result",
          "data": {
            "text/plain": [
              "{'Abacaxi': 3.8, 'Banana': 3.2, 'Coco': 8.45, 'Limao': 2.1, 'Maca': 4}"
            ]
          },
          "metadata": {
            "tags": []
          },
          "execution_count": 57
        }
      ]
    }
  ]
}