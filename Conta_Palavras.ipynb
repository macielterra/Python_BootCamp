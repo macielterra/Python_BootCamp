{
  "nbformat": 4,
  "nbformat_minor": 0,
  "metadata": {
    "colab": {
      "name": "Olá, este é o Colaboratory",
      "provenance": [],
      "collapsed_sections": [],
      "include_colab_link": true
    },
    "kernelspec": {
      "display_name": "Python 3",
      "name": "python3"
    }
  },
  "cells": [
    {
      "cell_type": "markdown",
      "metadata": {
        "id": "view-in-github",
        "colab_type": "text"
      },
      "source": [
        "<a href=\"https://colab.research.google.com/github/macielterra/Python_Analise_Dados/blob/main/Conta_Palavras.ipynb\" target=\"_parent\"><img src=\"https://colab.research.google.com/assets/colab-badge.svg\" alt=\"Open In Colab\"/></a>"
      ]
    },
    {
      "cell_type": "markdown",
      "metadata": {
        "id": "EXs6qbx991Jf"
      },
      "source": [
        "ALGORITMO PYTHON PARA CONTAR A QUANTIDADE DE VEZES EM QUE CADA PALAVRA OCORRE DENTRO DE UM ARQUIVO."
      ]
    },
    {
      "cell_type": "code",
      "metadata": {
        "id": "cFdVqNsx5QSb"
      },
      "source": [
        "import string"
      ],
      "execution_count": 7,
      "outputs": []
    },
    {
      "cell_type": "code",
      "metadata": {
        "id": "M4vWkkv95Szn"
      },
      "source": [
        "#Le o arquivo\n",
        "texto = open('note.txt').read()\n",
        "texto_limpo=''"
      ],
      "execution_count": 8,
      "outputs": []
    },
    {
      "cell_type": "code",
      "metadata": {
        "id": "8ONgiWMh5hd3"
      },
      "source": [
        "#Limpa o texto\n",
        "for car in texto:\n",
        "  if not car in string.punctuation:\n",
        "    texto_limpo += car"
      ],
      "execution_count": 9,
      "outputs": []
    },
    {
      "cell_type": "code",
      "metadata": {
        "id": "HdsA9t0B6Fy2"
      },
      "source": [
        "#Separa as palavras\n",
        "palavras = texto_limpo.split()"
      ],
      "execution_count": 10,
      "outputs": []
    },
    {
      "cell_type": "code",
      "metadata": {
        "id": "4IJ51Xj26WRY"
      },
      "source": [
        "#Conta\n",
        "resp = {}\n",
        "for palavra in palavras:\n",
        "  resp[palavra] = resp.get(palavra, 0) + 1\n",
        "saida = resp.items()"
      ],
      "execution_count": 11,
      "outputs": []
    },
    {
      "cell_type": "code",
      "metadata": {
        "id": "vY_PH6KC687f",
        "outputId": "33caf83f-03d2-4fb6-d7b5-b29cbacd6262",
        "colab": {
          "base_uri": "https://localhost:8080/",
          "height": 197
        }
      },
      "source": [
        "#Ordena\n",
        "def cmp(x,y):\n",
        "  return x[-1] - y[-1]\n",
        "saida.sort(cmp=cmp, reverse=True)"
      ],
      "execution_count": 14,
      "outputs": [
        {
          "output_type": "error",
          "ename": "AttributeError",
          "evalue": "ignored",
          "traceback": [
            "\u001b[0;31m---------------------------------------------------------------------------\u001b[0m",
            "\u001b[0;31mAttributeError\u001b[0m                            Traceback (most recent call last)",
            "\u001b[0;32m<ipython-input-14-6eb0942643a2>\u001b[0m in \u001b[0;36m<module>\u001b[0;34m()\u001b[0m\n\u001b[1;32m      2\u001b[0m \u001b[0;32mdef\u001b[0m \u001b[0mcmp\u001b[0m\u001b[0;34m(\u001b[0m\u001b[0mx\u001b[0m\u001b[0;34m,\u001b[0m\u001b[0my\u001b[0m\u001b[0;34m)\u001b[0m\u001b[0;34m:\u001b[0m\u001b[0;34m\u001b[0m\u001b[0;34m\u001b[0m\u001b[0m\n\u001b[1;32m      3\u001b[0m   \u001b[0;32mreturn\u001b[0m \u001b[0mx\u001b[0m\u001b[0;34m[\u001b[0m\u001b[0;34m-\u001b[0m\u001b[0;36m1\u001b[0m\u001b[0;34m]\u001b[0m \u001b[0;34m-\u001b[0m \u001b[0my\u001b[0m\u001b[0;34m[\u001b[0m\u001b[0;34m-\u001b[0m\u001b[0;36m1\u001b[0m\u001b[0;34m]\u001b[0m\u001b[0;34m\u001b[0m\u001b[0;34m\u001b[0m\u001b[0m\n\u001b[0;32m----> 4\u001b[0;31m \u001b[0msaida\u001b[0m\u001b[0;34m.\u001b[0m\u001b[0msort\u001b[0m\u001b[0;34m(\u001b[0m\u001b[0mcmp\u001b[0m\u001b[0;34m=\u001b[0m\u001b[0mcmp\u001b[0m\u001b[0;34m,\u001b[0m \u001b[0mreverse\u001b[0m\u001b[0;34m=\u001b[0m\u001b[0;32mTrue\u001b[0m\u001b[0;34m)\u001b[0m\u001b[0;34m\u001b[0m\u001b[0;34m\u001b[0m\u001b[0m\n\u001b[0m",
            "\u001b[0;31mAttributeError\u001b[0m: 'dict_items' object has no attribute 'sort'"
          ]
        }
      ]
    },
    {
      "cell_type": "code",
      "metadata": {
        "id": "rZl26LHN7zy6",
        "outputId": "d7ace98f-3831-4245-a5a3-b9d74fb1d0bf",
        "colab": {
          "base_uri": "https://localhost:8080/"
        }
      },
      "source": [
        "#Imprimir\n",
        "for k,v in saida:\n",
        "  print (k, '=>',v)"
      ],
      "execution_count": 15,
      "outputs": [
        {
          "output_type": "stream",
          "text": [
            "Para => 1\n",
            "abrir => 1\n",
            "um => 1\n",
            "arquivo => 4\n",
            "de => 3\n",
            "texto => 1\n",
            "com => 1\n",
            "Python => 1\n",
            "é => 3\n",
            "necessário => 1\n",
            "utilizar => 1\n",
            "a => 3\n",
            "função => 2\n",
            "open => 1\n",
            "A => 1\n",
            "sintaxe => 1\n",
            "padrão => 1\n",
            "da => 1\n",
            "opennome => 1\n",
            "modo => 1\n",
            "buffering => 1\n",
            "sendo => 1\n",
            "“nome” => 1\n",
            "o => 1\n",
            "que => 1\n",
            "será => 1\n",
            "aberto => 1\n",
            "“modo” => 1\n",
            "forma => 1\n",
            "abertura => 2\n",
            "do => 2\n",
            "e => 1\n",
            "“buffering” => 1\n",
            "quantidade => 1\n",
            "bytes => 1\n",
            "reservados => 1\n",
            "na => 1\n",
            "memória => 1\n",
            "para => 1\n",
            "opcional => 1\n"
          ],
          "name": "stdout"
        }
      ]
    }
  ]
}